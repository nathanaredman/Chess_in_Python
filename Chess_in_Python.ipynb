{
  "cells": [
    {
      "cell_type": "code",
      "execution_count": 2,
      "metadata": {
        "id": "pCFGrKeor4s8"
      },
      "outputs": [],
      "source": [
        "import numpy as np\n",
        "import pandas as pd"
      ]
    },
    {
      "cell_type": "code",
      "execution_count": 3,
      "metadata": {
        "id": "-TPDLa144Tz4"
      },
      "outputs": [],
      "source": [
        "#premovecheckscan\n",
        "#postmovecheckscan\n",
        "#offtheboarderror\n",
        "# clearpath move check\n",
        "#while loop for invalid move selections"
      ]
    },
    {
      "cell_type": "code",
      "source": [
        "def open_position_check(all_occupied_positions):\n",
        "    occupied = False\n",
        "    for piececheck in all_occupied_positions:\n",
        "      if piececheck.position == target_position:\n",
        "        occupied = True\n",
        "    if occupied == True:\n",
        "      print(\"Sorry, already a piece there\")\n",
        "    else:\n",
        "      self.position = target_position"
      ],
      "metadata": {
        "id": "x70uQ-Qq0qID"
      },
      "execution_count": 24,
      "outputs": []
    },
    {
      "cell_type": "code",
      "execution_count": 4,
      "metadata": {
        "id": "9fPD61ytHp8O"
      },
      "outputs": [],
      "source": [
        "def clearpathcheck(intermediate_positions,gameboard):\n",
        "  all_positions = []\n",
        "  for pieces_ in gameboard.pieces['black_pieces'].values():\n",
        "    all_positions.append(pieces_.position)\n",
        "  for pieces_ in gameboard.pieces['white_pieces'].values():\n",
        "    all_positions.append(pieces_.position)\n",
        "  obstructed_path = False\n",
        "  for checkspots in intermediate_positions:\n",
        "    if checkspots in all_positions:\n",
        "      obstructed_path = True\n",
        "  return obstructed_path"
      ]
    },
    {
      "cell_type": "code",
      "execution_count": 5,
      "metadata": {
        "id": "b0_K3aWKr883"
      },
      "outputs": [],
      "source": [
        "class ChessPiece:\n",
        "  column_range = ['A','B','C','D','E','F','G','H']\n",
        "  row_range =[1,2,3,4,5,6,7,8]\n",
        "  def __init__(self, color, position, name, status = 'Alive', move_count = 0):\n",
        "      self.color = color\n",
        "      self.position = position\n",
        "      self.status = status\n",
        "      self.name = name\n",
        "      self.move_count = move_count\n",
        "\n",
        "  def moveguard(required_positions, the_board):\n",
        "    occupied_spaces = []\n",
        "    #for loop over the list of required positions to see if they are present in the occupied positions list\n",
        "    #if there is a match print 'there seems to be a piece in your way...'\n",
        "    \n",
        "  def take_guard(target_position, the_board, valid_take = False):\n",
        "    #make a list of spaces occupied by white pieces\n",
        "    #make a separate list of spaces occupied by black pieces\n",
        "    #check your target position against the list of opposite color piece locations\n",
        "    #if the target position is not on the list, print 'there is no enemy there'\n",
        "    pass"
      ]
    },
    {
      "cell_type": "code",
      "execution_count": 6,
      "metadata": {
        "id": "0Q2xJm2esMuu"
      },
      "outputs": [],
      "source": [
        "class King(ChessPiece):\n",
        "  def move(self, the_board):\n",
        "    board_columns = ['A','B','C','D','E','F','G','H']\n",
        "    direction = input('Which direction? (U,D,L,R,UL,UR,DL,DR)')\n",
        "    original_position = self.position\n",
        "    current_column = board_columns.index(self.position[0])\n",
        "    #try except block\n",
        "    if direction == 'U':\n",
        "      target_position = [self.position[0] , self.position[1] - 1]\n",
        "    elif direction == 'D':\n",
        "      target_position = [self.position[0] , self.position[1] + 1]\n",
        "    elif direction == 'L':\n",
        "      target_position = [board_columns[current_column -1] , self.position[1]]\n",
        "    elif direction == 'R':\n",
        "      target_position = [board_columns[current_column +1] , self.position[1]]\n",
        "    elif direction == 'UL':\n",
        "      target_position = [board_columns[current_column -1] , self.position[1]-1]\n",
        "    elif direction == 'UR':\n",
        "      target_position = [board_columns[current_column +1] , self.position[1]-1]\n",
        "    elif direction == 'DR':\n",
        "      target_position = [board_columns[current_column +1] , self.position[1]+1]\n",
        "    elif direction == 'DL':\n",
        "      target_position = [board_columns[current_column -1] , self.position[1]+1]\n",
        "    all_pieces = {**the_board.pieces['white_pieces'],**the_board.pieces['black_pieces']}\n",
        "    keys, values = zip(*all_pieces.items())\n",
        "    occupied = False\n",
        "    for piececheck in values:\n",
        "      if piececheck.position == target_position:\n",
        "        occupied = True\n",
        "    if occupied == True:\n",
        "      print(\"Sorry, already a piece there\")\n",
        "    else:\n",
        "      self.position = target_position\n",
        "    if original_position != self.position:\n",
        "      self.move_count += 1\n",
        "WK = King('White',['E',8], 'WK')\n",
        "BK = King('White',['E',1], 'BK')"
      ]
    },
    {
      "cell_type": "code",
      "execution_count": 7,
      "metadata": {
        "id": "i2PEnGLgsRWd"
      },
      "outputs": [],
      "source": [
        "class Queen(ChessPiece):\n",
        "  def move(self, the_board):\n",
        "    board_columns = ['A','B','C','D','E','F','G','H']\n",
        "    direction = input('Which direction? (U,D,L,R,UL,UR,DL,DR)')\n",
        "    distance = input('how many squares?')\n",
        "    distance = int(distance)\n",
        "    original_position = self.position\n",
        "    current_column = board_columns.index(self.position[0])\n",
        "    #try except block\n",
        "    if direction == 'U':\n",
        "      target_position = [self.position[0] , self.position[1] - distance]\n",
        "    elif direction == 'D':\n",
        "      target_position = [self.position[0] , self.position[1] + distance]\n",
        "    elif direction == 'L':\n",
        "      target_position = [board_columns[current_column -distance] , self.position[1]]\n",
        "    elif direction == 'R':\n",
        "      target_position = [board_columns[current_column +distance] , self.position[1]]\n",
        "    elif direction == 'UL':\n",
        "      target_position = [board_columns[current_column -distance] , self.position[1]-distance]\n",
        "    elif direction == 'UR':\n",
        "      target_position = [board_columns[current_column +distance] , self.position[1]-distance]\n",
        "    elif direction == 'DR':\n",
        "      target_position = [board_columns[current_column +distance] , self.position[1]+distance]\n",
        "    elif direction == 'DL':\n",
        "      target_position = [board_columns[current_column -distance] , self.position[1]+distance]\n",
        "    all_pieces = {**the_board.pieces['white_pieces'],**the_board.pieces['black_pieces']}\n",
        "    keys, values = zip(*all_pieces.items())\n",
        "    #else: print 'not a valid entry... try again!'\n",
        "    occupied = False\n",
        "    for piececheck in values:\n",
        "      if piececheck.position == target_position:\n",
        "        occupied = True\n",
        "    if occupied == True:\n",
        "      print(\"Sorry, already a piece there\")\n",
        "    else:\n",
        "      self.position = target_position\n",
        "    if original_position != self.position:\n",
        "      self.move_count += 1\n",
        "\n",
        "WQ = Queen('White',['D',8], 'WQ')\n",
        "BQ = Queen('Black',['D',1], 'BQ')"
      ]
    },
    {
      "cell_type": "code",
      "execution_count": 20,
      "metadata": {
        "id": "Au5IfIc9sVc-"
      },
      "outputs": [],
      "source": [
        "class Bishop(ChessPiece):\n",
        "  def move(self, the_board):\n",
        "    board_columns = ['A','B','C','D','E','F','G','H']\n",
        "    direction = input('Which direction? (UL,UR,DL,DR)')\n",
        "    distance = input('how many squares?')\n",
        "    distance = int(distance)\n",
        "    original_position = self.position\n",
        "    current_column = board_columns.index(self.position[0])\n",
        "    #try except block\n",
        "    if  direction == 'UL':\n",
        "      target_position = [board_columns[current_column -distance] , self.position[1]-distance]\n",
        "    elif direction == 'UR':\n",
        "      target_position = [board_columns[current_column +distance] , self.position[1]-distance]\n",
        "    elif direction == 'DR':\n",
        "      target_position = [board_columns[current_column +distance] , self.position[1]+distance]\n",
        "    elif direction == 'DL':\n",
        "      target_position = [board_columns[current_column -distance] , self.position[1]+distance]\n",
        "    all_pieces = {**the_board.pieces['white_pieces'],**the_board.pieces['black_pieces']}\n",
        "    keys, values = zip(*all_pieces.items())\n",
        "    #else: print 'not a valid entry... try again!'\n",
        "    occupied = False\n",
        "    for piececheck in values:\n",
        "      if piececheck.position == target_position:\n",
        "        occupied = True\n",
        "    if occupied == True:\n",
        "      print(\"Sorry, already a piece there\")\n",
        "    else:\n",
        "      self.position = target_position\n",
        "    if original_position != self.position:\n",
        "      self.move_count += 1\n",
        "\n",
        "WB1 = Bishop('White',['C',8], 'WB1')\n",
        "WB2 = Bishop('White',['F',8], 'WB2')\n",
        "BB1 = Bishop('Black',['C',1], 'BB1')\n",
        "BB2 = Bishop('Black',['F',1], 'BB2')"
      ]
    },
    {
      "cell_type": "code",
      "execution_count": 13,
      "metadata": {
        "id": "F604OvJosX7t"
      },
      "outputs": [],
      "source": [
        "class Knight(ChessPiece):\n",
        "  def move(self, the_board):\n",
        "    board_columns = ['A','B','C','D','E','F','G','H']\n",
        "    direction = input('Which direction? (UUL,UUR,ULL,URR,DDL,DDR,DLL,DRR')\n",
        "    original_position = self.position\n",
        "    current_column = board_columns.index(self.position[0])\n",
        "    if direction == 'UUL':\n",
        "      target_position = [board_columns[current_column -1] , self.position[1] - 2]    \n",
        "    elif direction == 'UUR':\n",
        "      target_position = [board_columns[current_column +1] , self.position[1] - 2] \n",
        "    elif direction == 'ULL':\n",
        "      target_position = [board_columns[current_column -2] , self.position[1] - 1]\n",
        "    elif direction == 'URR':\n",
        "      target_position = [board_columns[current_column +2] , self.position[1] - 1]  \n",
        "    elif direction == 'DLL':\n",
        "      target_position = [board_columns[current_column -2] , self.position[1] + 1]\n",
        "    elif direction == 'DRR':\n",
        "      target_position = [board_columns[current_column +2] , self.position[1] + 1]   \n",
        "    elif direction == 'DDL':\n",
        "      target_position = [board_columns[current_column -1] , self.position[1] + 2]\n",
        "    elif direction == 'DDR':\n",
        "      target_position = [board_columns[current_column +1] , self.position[1] + 2]   \n",
        "    all_pieces = {**the_board.pieces['white_pieces'],**the_board.pieces['black_pieces']}\n",
        "    keys, values = zip(*all_pieces.items())\n",
        "    occupied = False\n",
        "    for piececheck in values:\n",
        "      if piececheck.position == target_position:\n",
        "        occupied = True\n",
        "    if occupied == True:\n",
        "      print(\"Sorry, already a piece there\")\n",
        "    else:\n",
        "      self.position = target_position\n",
        "    if original_position != self.position:\n",
        "      self.move_count += 1\n",
        "WKn1 = Knight('White',['B',8], 'WKn1')\n",
        "WKn2 = Knight('White',['G',8], 'WKn2')\n",
        "BKn1 = Knight('Black',['B',1], 'BKn1')\n",
        "BKn2 = Knight('Black',['G',1], 'BKn2')"
      ]
    },
    {
      "cell_type": "code",
      "execution_count": 28,
      "metadata": {
        "id": "plnUDdO8sadW"
      },
      "outputs": [],
      "source": [
        "class Rook(ChessPiece):\n",
        "  def move(self, the_board):\n",
        "    board_columns = ['A','B','C','D','E','F','G','H']\n",
        "    direction = input('Which direction? (U,D,L,R)')\n",
        "    distance = input('how many squares?')\n",
        "    distance = int(distance)\n",
        "    original_position = self.position\n",
        "    current_column = board_columns.index(self.position[0])\n",
        "    #try except block\n",
        "    if direction == 'U':\n",
        "      target_position = [self.position[0] , self.position[1] - distance]\n",
        "    elif direction == 'D':\n",
        "      target_position = [self.position[0] , self.position[1] + distance]\n",
        "    elif direction == 'L':\n",
        "      target_position = [board_columns[current_column -distance] , self.position[1]]\n",
        "    elif direction == 'R':\n",
        "      target_position = [board_columns[current_column +distance] , self.position[1]]\n",
        "    all_pieces = {**the_board.pieces['white_pieces'],**the_board.pieces['black_pieces']}\n",
        "    open_position_check(all_pieces.values)\n",
        "    if original_position != self.position:\n",
        "      self.move_count += 1\n",
        "\n",
        "WR1 = Rook('White',['A',8], 'WR1')\n",
        "WR2 = Rook('White',['H',8], 'WR2')\n",
        "BR1 = Rook('Black',['A',1], 'BR1')\n",
        "BR2 = Rook('Black',['H',1], 'BR2')"
      ]
    },
    {
      "cell_type": "code",
      "execution_count": 25,
      "metadata": {
        "id": "kYl3aKOJsdXx"
      },
      "outputs": [],
      "source": [
        "class Pawn(ChessPiece):\n",
        "  def __init__(self, color, position, name, status = 'Alive', move_count = 0):\n",
        "      self.color = color\n",
        "      self.position = position\n",
        "      self.status = status\n",
        "      self.name = name\n",
        "      self.move_count = move_count\n",
        "  def move(self, the_board):  \n",
        "    if self.color == 'White':\n",
        "      original_position = self.position\n",
        "      target_position = [self.position[0] , self.position[1] - 1]\n",
        "    else:\n",
        "      original_position = self.position\n",
        "      target_position = [self.position[0] , self.position[1] + 1]\n",
        "      ### if there is no piece at the target destination\n",
        "    all_pieces = {**board.pieces['black_pieces'],**board.pieces['white_pieces']}\n",
        "    open_position_check(all_pieces.values)\n",
        "    if original_position != self.position:\n",
        "      self.move_count += 1\n",
        "\n",
        "  def take(self, the_board):\n",
        "    pass\n",
        "\n",
        "\"\"\"\n",
        "      move_count += 1\n",
        "      if move count !=\n",
        "   # self.previous_move = 'True'\n",
        "\n",
        "\"\"\"\n",
        "WP1 = Pawn('White',['A',7], 'WP1') ; WP2 = Pawn('White',['B',7], 'WP2') ; WP3 = Pawn('White',['C',7], 'WP3') ; WP4 = Pawn('White',['D',7], 'WP4')\n",
        "WP5 = Pawn('White',['E',7], 'WP5') ; WP6 = Pawn('White',['F',7], 'WP6') ; WP7 = Pawn('White',['G',7], 'WP7') ; WP8 = Pawn('White',['H',7], 'WP8')\n",
        "BP1 = Pawn('Black',['A',2], 'BP1') ; BP2 = Pawn('Black',['B',2], 'BP2') ; BP3 = Pawn('Black',['C',2], 'BP3') ; BP4 = Pawn('Black',['D',2], 'BP4')\n",
        "BP5 = Pawn('Black',['E',2], 'BP5') ; BP6 = Pawn('Black',['F',2], 'BP6') ; BP7 = Pawn('Black',['G',2], 'BP7') ; BP8 = Pawn('Black',['H',2], 'BP8')"
      ]
    },
    {
      "cell_type": "code",
      "execution_count": 16,
      "metadata": {
        "id": "QDUXnxVQsmX6"
      },
      "outputs": [],
      "source": [
        "class Chessboard:\n",
        "    def __init__(self):\n",
        "        self.pieces = {\n",
        "            'black_pieces' : { 'BK' : BK,'BQ' : BQ,'BB1' : BB1,'BB2' : BB2,'BKn1':BKn1,'BKn2':BKn2,'BR1':BR1,\n",
        "                              'BR2':BR2,'BP1':BP1,'BP2':BP2,'BP3':BP3,'BP4':BP4,'BP5':BP5,'BP6':BP6,'BP7':BP7,'BP8':BP8},\n",
        "            'white_pieces' : {'WK':WK,'WQ':WQ,'WB1':WB1,'WB2':WB2,'WKn1':WKn1,'WKn2':WKn2,'WR1':WR1, 'WR2':WR2,\n",
        "                              'WP1':WP1,'WP2':WP2,'WP3':WP3,'WP4':WP4,'WP5':WP5,'WP6':WP6,'WP7':WP7,'WP8':WP8}\n",
        "}\n",
        "\n",
        "    def render(self):   ### put in the argument of the piece dictionary to populate the board\n",
        "            board = np.full([8,8], ['B'])\n",
        "            l = np.tile((np.linspace(1,8,8)),(8,1))  ;   m = l.T\n",
        "            synthetic_array = l+m\n",
        "            synthetic_boolean = synthetic_array%2 == 1\n",
        "            board[synthetic_boolean] = 'W'\n",
        "            pdboard = pd.DataFrame(board, columns = ['A','B','C','D','E','F','G','H'])\n",
        "            pdboard2 = pdboard.sort_index(axis = 0, ascending = False)  ; pdboard2.index += 1\n",
        "            placement_array = ['A','B','C','D','E','F','G','H']\n",
        "            for name, piece in self.pieces['black_pieces'].items():\n",
        "              if piece.status == 'Alive':\n",
        "                for itr in range(len(placement_array)):\n",
        "                  if placement_array[itr] == piece.position[0]:\n",
        "                    pdboard2.iloc[(piece.position[1]-1,itr)] = piece.name     \n",
        "            for name, piece in self.pieces['white_pieces'].items():\n",
        "              if piece.status == 'Alive':\n",
        "                for itr in range(len(placement_array)):\n",
        "                  if placement_array[itr] == piece.position[0]:\n",
        "                    pdboard2.iloc[(piece.position[1]-1,itr)] = piece.name           \n",
        "      ###  for piece in self.pieces.item:\n",
        "          \n",
        "\n",
        "            return pdboard2\n"
      ]
    },
    {
      "cell_type": "code",
      "execution_count": 17,
      "metadata": {
        "id": "K5octd9EstRC"
      },
      "outputs": [],
      "source": [
        "board = Chessboard()"
      ]
    },
    {
      "cell_type": "code",
      "execution_count": 18,
      "metadata": {
        "id": "Acej6Kx-s6rV"
      },
      "outputs": [],
      "source": [
        "def PlayChess(gameboard):\n",
        "  game_over = False\n",
        "  total_moves = 0\n",
        "  while game_over == False:\n",
        "    if total_moves%2 == 0:\n",
        "      selection = input('Choose White Piece: ')\n",
        "      selection_ = gameboard.pieces['white_pieces'][selection]\n",
        "    else:\n",
        "      selection = input('Choose Black Piece: ')\n",
        "      selection_ = gameboard.pieces['black_pieces'][selection]\n",
        "    Action = input('Move (m), Take(t), or Castle(c)')\n",
        "    \n",
        "    if Action == 'm':\n",
        "      selection_.move(gameboard)\n",
        "      print(gameboard.render())\n",
        "      #move_on = input('Move on?')\n",
        "    elif Action == 't':\n",
        "      pass\n",
        "    elif Action == 'c':\n",
        "      pass\n",
        "    total_moves +=1\n",
        "    gameboard.render()"
      ]
    },
    {
      "cell_type": "code",
      "execution_count": 32,
      "metadata": {
        "id": "1bvxas7L1l22",
        "colab": {
          "base_uri": "https://localhost:8080/",
          "height": 1000
        },
        "outputId": "1a74d761-24b3-4af5-e413-65ddba3287d6"
      },
      "outputs": [
        {
          "output_type": "stream",
          "name": "stdout",
          "text": [
            "Choose White Piece: WR1\n",
            "Move (m), Take(t), or Castle(c)m\n",
            "Which direction? (U,D,L,R)L\n",
            "how many squares?1\n",
            "     A     B    C    D    E    F     G    H\n",
            "8    W  BKn1  BB1   BQ   BK  BB2  BKn2  BR2\n",
            "7    B     W  BP3  BP4  BP5  BP6   BP7  BP8\n",
            "6    W     B  WP3    B    W  WR1     W    B\n",
            "5  BP1     W    B    W    B    W     B    W\n",
            "4  WP1     B    W    B    W    B     W    B\n",
            "3    B   BP2    B    W    B  BR1     B    W\n",
            "2    W   WP2    W  WP4  WP5  WP6   WP7  WP8\n",
            "1    B  WKn1  WB1   WQ   WK  WB2  WKn2  WR2\n",
            "Choose Black Piece: BR1\n",
            "Move (m), Take(t), or Castle(c)m\n",
            "Which direction? (U,D,L,R)L\n",
            "how many squares?2\n",
            "     A     B    C    D    E    F     G    H\n",
            "8    W  BKn1  BB1   BQ   BK  BB2  BKn2  BR2\n",
            "7    B     W  BP3  BP4  BP5  BP6   BP7  BP8\n",
            "6    W     B  WP3    B    W  WR1     W    B\n",
            "5  BP1     W    B    W    B    W     B    W\n",
            "4  WP1     B    W    B    W    B     W    B\n",
            "3    B   BP2    B  BR1    B    W     B    W\n",
            "2    W   WP2    W  WP4  WP5  WP6   WP7  WP8\n",
            "1    B  WKn1  WB1   WQ   WK  WB2  WKn2  WR2\n",
            "Choose White Piece: WR1\n",
            "Move (m), Take(t), or Castle(c)m\n",
            "Which direction? (U,D,L,R)L\n",
            "how many squares?3\n",
            "Sorry, already a piece there\n",
            "     A     B    C    D    E    F     G    H\n",
            "8    W  BKn1  BB1   BQ   BK  BB2  BKn2  BR2\n",
            "7    B     W  BP3  BP4  BP5  BP6   BP7  BP8\n",
            "6    W     B  WP3    B    W  WR1     W    B\n",
            "5  BP1     W    B    W    B    W     B    W\n",
            "4  WP1     B    W    B    W    B     W    B\n",
            "3    B   BP2    B  BR1    B    W     B    W\n",
            "2    W   WP2    W  WP4  WP5  WP6   WP7  WP8\n",
            "1    B  WKn1  WB1   WQ   WK  WB2  WKn2  WR2\n"
          ]
        },
        {
          "output_type": "error",
          "ename": "KeyboardInterrupt",
          "evalue": "ignored",
          "traceback": [
            "\u001b[0;31m---------------------------------------------------------------------------\u001b[0m",
            "\u001b[0;31mKeyboardInterrupt\u001b[0m                         Traceback (most recent call last)",
            "\u001b[0;32m/usr/local/lib/python3.7/dist-packages/ipykernel/kernelbase.py\u001b[0m in \u001b[0;36m_input_request\u001b[0;34m(self, prompt, ident, parent, password)\u001b[0m\n\u001b[1;32m    728\u001b[0m             \u001b[0;32mtry\u001b[0m\u001b[0;34m:\u001b[0m\u001b[0;34m\u001b[0m\u001b[0;34m\u001b[0m\u001b[0m\n\u001b[0;32m--> 729\u001b[0;31m                 \u001b[0mident\u001b[0m\u001b[0;34m,\u001b[0m \u001b[0mreply\u001b[0m \u001b[0;34m=\u001b[0m \u001b[0mself\u001b[0m\u001b[0;34m.\u001b[0m\u001b[0msession\u001b[0m\u001b[0;34m.\u001b[0m\u001b[0mrecv\u001b[0m\u001b[0;34m(\u001b[0m\u001b[0mself\u001b[0m\u001b[0;34m.\u001b[0m\u001b[0mstdin_socket\u001b[0m\u001b[0;34m,\u001b[0m \u001b[0;36m0\u001b[0m\u001b[0;34m)\u001b[0m\u001b[0;34m\u001b[0m\u001b[0;34m\u001b[0m\u001b[0m\n\u001b[0m\u001b[1;32m    730\u001b[0m             \u001b[0;32mexcept\u001b[0m \u001b[0mException\u001b[0m\u001b[0;34m:\u001b[0m\u001b[0;34m\u001b[0m\u001b[0;34m\u001b[0m\u001b[0m\n",
            "\u001b[0;32m/usr/local/lib/python3.7/dist-packages/jupyter_client/session.py\u001b[0m in \u001b[0;36mrecv\u001b[0;34m(self, socket, mode, content, copy)\u001b[0m\n\u001b[1;32m    802\u001b[0m         \u001b[0;32mtry\u001b[0m\u001b[0;34m:\u001b[0m\u001b[0;34m\u001b[0m\u001b[0;34m\u001b[0m\u001b[0m\n\u001b[0;32m--> 803\u001b[0;31m             \u001b[0mmsg_list\u001b[0m \u001b[0;34m=\u001b[0m \u001b[0msocket\u001b[0m\u001b[0;34m.\u001b[0m\u001b[0mrecv_multipart\u001b[0m\u001b[0;34m(\u001b[0m\u001b[0mmode\u001b[0m\u001b[0;34m,\u001b[0m \u001b[0mcopy\u001b[0m\u001b[0;34m=\u001b[0m\u001b[0mcopy\u001b[0m\u001b[0;34m)\u001b[0m\u001b[0;34m\u001b[0m\u001b[0;34m\u001b[0m\u001b[0m\n\u001b[0m\u001b[1;32m    804\u001b[0m         \u001b[0;32mexcept\u001b[0m \u001b[0mzmq\u001b[0m\u001b[0;34m.\u001b[0m\u001b[0mZMQError\u001b[0m \u001b[0;32mas\u001b[0m \u001b[0me\u001b[0m\u001b[0;34m:\u001b[0m\u001b[0;34m\u001b[0m\u001b[0;34m\u001b[0m\u001b[0m\n",
            "\u001b[0;32m/usr/local/lib/python3.7/dist-packages/zmq/sugar/socket.py\u001b[0m in \u001b[0;36mrecv_multipart\u001b[0;34m(self, flags, copy, track)\u001b[0m\n\u001b[1;32m    726\u001b[0m         \"\"\"\n\u001b[0;32m--> 727\u001b[0;31m         \u001b[0mparts\u001b[0m \u001b[0;34m=\u001b[0m \u001b[0;34m[\u001b[0m\u001b[0mself\u001b[0m\u001b[0;34m.\u001b[0m\u001b[0mrecv\u001b[0m\u001b[0;34m(\u001b[0m\u001b[0mflags\u001b[0m\u001b[0;34m,\u001b[0m \u001b[0mcopy\u001b[0m\u001b[0;34m=\u001b[0m\u001b[0mcopy\u001b[0m\u001b[0;34m,\u001b[0m \u001b[0mtrack\u001b[0m\u001b[0;34m=\u001b[0m\u001b[0mtrack\u001b[0m\u001b[0;34m)\u001b[0m\u001b[0;34m]\u001b[0m\u001b[0;34m\u001b[0m\u001b[0;34m\u001b[0m\u001b[0m\n\u001b[0m\u001b[1;32m    728\u001b[0m         \u001b[0;31m# have first part already, only loop while more to receive\u001b[0m\u001b[0;34m\u001b[0m\u001b[0;34m\u001b[0m\u001b[0;34m\u001b[0m\u001b[0m\n",
            "\u001b[0;32mzmq/backend/cython/socket.pyx\u001b[0m in \u001b[0;36mzmq.backend.cython.socket.Socket.recv\u001b[0;34m()\u001b[0m\n",
            "\u001b[0;32mzmq/backend/cython/socket.pyx\u001b[0m in \u001b[0;36mzmq.backend.cython.socket.Socket.recv\u001b[0;34m()\u001b[0m\n",
            "\u001b[0;32mzmq/backend/cython/socket.pyx\u001b[0m in \u001b[0;36mzmq.backend.cython.socket._recv_copy\u001b[0;34m()\u001b[0m\n",
            "\u001b[0;32m/usr/local/lib/python3.7/dist-packages/zmq/backend/cython/checkrc.pxd\u001b[0m in \u001b[0;36mzmq.backend.cython.checkrc._check_rc\u001b[0;34m()\u001b[0m\n",
            "\u001b[0;31mKeyboardInterrupt\u001b[0m: ",
            "\nDuring handling of the above exception, another exception occurred:\n",
            "\u001b[0;31mKeyboardInterrupt\u001b[0m                         Traceback (most recent call last)",
            "\u001b[0;32m<ipython-input-32-b8335dffaf4f>\u001b[0m in \u001b[0;36m<module>\u001b[0;34m()\u001b[0m\n\u001b[0;32m----> 1\u001b[0;31m \u001b[0mPlayChess\u001b[0m\u001b[0;34m(\u001b[0m\u001b[0mboard\u001b[0m\u001b[0;34m)\u001b[0m\u001b[0;34m\u001b[0m\u001b[0;34m\u001b[0m\u001b[0m\n\u001b[0m",
            "\u001b[0;32m<ipython-input-18-d15bea83c435>\u001b[0m in \u001b[0;36mPlayChess\u001b[0;34m(gameboard)\u001b[0m\n\u001b[1;32m      7\u001b[0m       \u001b[0mselection_\u001b[0m \u001b[0;34m=\u001b[0m \u001b[0mgameboard\u001b[0m\u001b[0;34m.\u001b[0m\u001b[0mpieces\u001b[0m\u001b[0;34m[\u001b[0m\u001b[0;34m'white_pieces'\u001b[0m\u001b[0;34m]\u001b[0m\u001b[0;34m[\u001b[0m\u001b[0mselection\u001b[0m\u001b[0;34m]\u001b[0m\u001b[0;34m\u001b[0m\u001b[0;34m\u001b[0m\u001b[0m\n\u001b[1;32m      8\u001b[0m     \u001b[0;32melse\u001b[0m\u001b[0;34m:\u001b[0m\u001b[0;34m\u001b[0m\u001b[0;34m\u001b[0m\u001b[0m\n\u001b[0;32m----> 9\u001b[0;31m       \u001b[0mselection\u001b[0m \u001b[0;34m=\u001b[0m \u001b[0minput\u001b[0m\u001b[0;34m(\u001b[0m\u001b[0;34m'Choose Black Piece: '\u001b[0m\u001b[0;34m)\u001b[0m\u001b[0;34m\u001b[0m\u001b[0;34m\u001b[0m\u001b[0m\n\u001b[0m\u001b[1;32m     10\u001b[0m       \u001b[0mselection_\u001b[0m \u001b[0;34m=\u001b[0m \u001b[0mgameboard\u001b[0m\u001b[0;34m.\u001b[0m\u001b[0mpieces\u001b[0m\u001b[0;34m[\u001b[0m\u001b[0;34m'black_pieces'\u001b[0m\u001b[0;34m]\u001b[0m\u001b[0;34m[\u001b[0m\u001b[0mselection\u001b[0m\u001b[0;34m]\u001b[0m\u001b[0;34m\u001b[0m\u001b[0;34m\u001b[0m\u001b[0m\n\u001b[1;32m     11\u001b[0m     \u001b[0mAction\u001b[0m \u001b[0;34m=\u001b[0m \u001b[0minput\u001b[0m\u001b[0;34m(\u001b[0m\u001b[0;34m'Move (m), Take(t), or Castle(c)'\u001b[0m\u001b[0;34m)\u001b[0m\u001b[0;34m\u001b[0m\u001b[0;34m\u001b[0m\u001b[0m\n",
            "\u001b[0;32m/usr/local/lib/python3.7/dist-packages/ipykernel/kernelbase.py\u001b[0m in \u001b[0;36mraw_input\u001b[0;34m(self, prompt)\u001b[0m\n\u001b[1;32m    702\u001b[0m             \u001b[0mself\u001b[0m\u001b[0;34m.\u001b[0m\u001b[0m_parent_ident\u001b[0m\u001b[0;34m,\u001b[0m\u001b[0;34m\u001b[0m\u001b[0;34m\u001b[0m\u001b[0m\n\u001b[1;32m    703\u001b[0m             \u001b[0mself\u001b[0m\u001b[0;34m.\u001b[0m\u001b[0m_parent_header\u001b[0m\u001b[0;34m,\u001b[0m\u001b[0;34m\u001b[0m\u001b[0;34m\u001b[0m\u001b[0m\n\u001b[0;32m--> 704\u001b[0;31m             \u001b[0mpassword\u001b[0m\u001b[0;34m=\u001b[0m\u001b[0;32mFalse\u001b[0m\u001b[0;34m,\u001b[0m\u001b[0;34m\u001b[0m\u001b[0;34m\u001b[0m\u001b[0m\n\u001b[0m\u001b[1;32m    705\u001b[0m         )\n\u001b[1;32m    706\u001b[0m \u001b[0;34m\u001b[0m\u001b[0m\n",
            "\u001b[0;32m/usr/local/lib/python3.7/dist-packages/ipykernel/kernelbase.py\u001b[0m in \u001b[0;36m_input_request\u001b[0;34m(self, prompt, ident, parent, password)\u001b[0m\n\u001b[1;32m    732\u001b[0m             \u001b[0;32mexcept\u001b[0m \u001b[0mKeyboardInterrupt\u001b[0m\u001b[0;34m:\u001b[0m\u001b[0;34m\u001b[0m\u001b[0;34m\u001b[0m\u001b[0m\n\u001b[1;32m    733\u001b[0m                 \u001b[0;31m# re-raise KeyboardInterrupt, to truncate traceback\u001b[0m\u001b[0;34m\u001b[0m\u001b[0;34m\u001b[0m\u001b[0;34m\u001b[0m\u001b[0m\n\u001b[0;32m--> 734\u001b[0;31m                 \u001b[0;32mraise\u001b[0m \u001b[0mKeyboardInterrupt\u001b[0m\u001b[0;34m\u001b[0m\u001b[0;34m\u001b[0m\u001b[0m\n\u001b[0m\u001b[1;32m    735\u001b[0m             \u001b[0;32melse\u001b[0m\u001b[0;34m:\u001b[0m\u001b[0;34m\u001b[0m\u001b[0;34m\u001b[0m\u001b[0m\n\u001b[1;32m    736\u001b[0m                 \u001b[0;32mbreak\u001b[0m\u001b[0;34m\u001b[0m\u001b[0;34m\u001b[0m\u001b[0m\n",
            "\u001b[0;31mKeyboardInterrupt\u001b[0m: "
          ]
        }
      ],
      "source": [
        "PlayChess(board)"
      ]
    },
    {
      "cell_type": "code",
      "execution_count": null,
      "metadata": {
        "id": "wd7ApyKwxypi"
      },
      "outputs": [],
      "source": [
        ""
      ]
    }
  ],
  "metadata": {
    "colab": {
      "name": "chessgame_V2",
      "provenance": []
    },
    "kernelspec": {
      "display_name": "Python 3",
      "name": "python3"
    },
    "language_info": {
      "name": "python"
    }
  },
  "nbformat": 4,
  "nbformat_minor": 0
}